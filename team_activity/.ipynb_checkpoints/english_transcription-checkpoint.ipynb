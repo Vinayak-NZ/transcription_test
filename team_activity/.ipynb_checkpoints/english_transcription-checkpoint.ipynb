{
 "cells": [
  {
   "cell_type": "code",
   "execution_count": 1,
   "id": "f4dab724",
   "metadata": {},
   "outputs": [
    {
     "name": "stdout",
     "output_type": "stream",
     "text": [
      "Hello   and team! You will be transcribing this video here: https://www.youtube.com/watch?v=HFHFL6-vs8s&t=100s. If you would like, please feel free to watch one to two minutes of the video first.\n"
     ]
    }
   ],
   "source": [
    "# EDIT: Please enter your name in between the quotation marks\n",
    "Name = \" \"\n",
    "\n",
    "print(f\"Hello {Name} and team! You will be transcribing this video here: https://www.youtube.com/watch?v=HFHFL6-vs8s&t=100s. If you would like, please feel free to watch one to two minutes of the video first.\")\n"
   ]
  },
  {
   "cell_type": "code",
   "execution_count": 2,
   "id": "a3c6ce58",
   "metadata": {},
   "outputs": [
    {
     "name": "stdout",
     "output_type": "stream",
     "text": [
      "Please proceed to the next step  \n"
     ]
    }
   ],
   "source": [
    "# Please load the following libraries, which are required for transcription\n",
    "\n",
    "import subprocess\n",
    "from os import path\n",
    "import wave\n",
    "from pydub import AudioSegment\n",
    "from vosk import Model, KaldiRecognizer\n",
    "import json\n",
    "\n",
    "print(f\"Please proceed to the next step {Name}\")"
   ]
  },
  {
   "cell_type": "code",
   "execution_count": 3,
   "id": "300c412a",
   "metadata": {},
   "outputs": [
    {
     "name": "stdout",
     "output_type": "stream",
     "text": [
      "Please proceed to the next step  \n"
     ]
    }
   ],
   "source": [
    "# Please convert the mp4 file to a wav file in order to transcribe\n",
    "\n",
    "command = \"ffmpeg -i /home/ubuntu/transcription_test/raw/pregnant_germany.mp4 -ab 160k -ac 2 -ar 44100 -vn /home/ubuntu/transcription_test/input/pregnant_germany.wav\"\n",
    "\n",
    "subprocess.call(command, shell=True)\n",
    "\n",
    "print(f\"Please proceed to the next step {Name}\")"
   ]
  },
  {
   "cell_type": "code",
   "execution_count": 4,
   "id": "7751e192",
   "metadata": {},
   "outputs": [
    {
     "name": "stdout",
     "output_type": "stream",
     "text": [
      "Please proceed to the next step  \n"
     ]
    }
   ],
   "source": [
    "# EDIT: Please enter the start and end time to transcribe in seconds\n",
    "\n",
    "# enter start time in seconds\n",
    "startTime = 120.0\n",
    "# enter end time in seconds\n",
    "endTime = 180.0\n",
    "\n",
    "# create audiosegment                                                            \n",
    "audio = AudioSegment.from_wav('/home/ubuntu/transcription_test/input/pregnant_germany.wav')\n",
    "audio = audio.set_channels(1)\n",
    "audio = audio.set_frame_rate(16000)\n",
    "cut = audio[startTime * 1000:endTime * 1000]\n",
    "cut.export('/home/ubuntu/transcription_test/input/pregnant_germany_segment.wav', format=\"wav\")\n",
    "\n",
    "print(f\"Please proceed to the next step {Name}\")\n"
   ]
  },
  {
   "cell_type": "code",
   "execution_count": 5,
   "id": "c4283434",
   "metadata": {},
   "outputs": [
    {
     "name": "stdout",
     "output_type": "stream",
     "text": [
      "Well done  , you have transcribed the segment. Please follow the instructions provided in the next code chunk\n"
     ]
    }
   ],
   "source": [
    "# Please run the transcription model\n",
    "\n",
    "inFileName = '/home/ubuntu/transcription_test/input/pregnant_germany_segment.wav'\n",
    "outfileResults = '/home/ubuntu/transcription_test/output/M1S3-Results.json'\n",
    "outfileText = '/home/ubuntu/transcription_test/output/M1S3-Text.json'\n",
    "\n",
    "wf = wave.open(inFileName, \"rb\")\n",
    "\n",
    "# initialize a str to hold results\n",
    "results = \"\"\n",
    "textResults = []\n",
    "\n",
    "# build the model and recognizer objects.\n",
    "model = Model(r\"/home/ubuntu/transcription_test/model/vosk-model-small-en-us-0.15\")\n",
    "recognizer = KaldiRecognizer(model, wf.getframerate())\n",
    "recognizer.SetWords(True)\n",
    "\n",
    "while True:\n",
    "    data = wf.readframes(4000)\n",
    "    if len(data) == 0:\n",
    "        break\n",
    "    if recognizer.AcceptWaveform(data):\n",
    "        recognizerResult = recognizer.Result()\n",
    "        results = results + recognizerResult\n",
    "        # convert the recognizerResult string into a dictionary  \n",
    "        resultDict = json.loads(recognizerResult)\n",
    "        # save the 'text' value from the dictionary into a list\n",
    "        textResults.append(resultDict.get(\"text\", \"\"))\n",
    "        \n",
    "# process \"final\" result\n",
    "results = results + recognizer.FinalResult()\n",
    "resultDict = json.loads(recognizer.FinalResult())\n",
    "textResults.append(resultDict.get(\"text\", \"\"))\n",
    "\n",
    "# write results to a file\n",
    "with open(outfileResults, 'w') as output:\n",
    "    print(results, file=output)\n",
    "\n",
    "# write text portion of results to a file\n",
    "with open(outfileText, 'w') as output:\n",
    "    print(json.dumps(textResults, indent=4), file=output)\n",
    "    \n",
    "print(f\"Well done {Name}, you have transcribed the segment. Please follow the instructions provided in the next code chunk\")"
   ]
  },
  {
   "cell_type": "code",
   "execution_count": null,
   "id": "3a72c7b4",
   "metadata": {},
   "outputs": [],
   "source": [
    "# Please evaluate the quality of the transcription\n",
    "\n",
    "# 1) Team Leader: in a new tab, please navigate to \"transcription_test/output/M1S3-Text.json\"\n",
    "# 2) Team Leader: please copy and send the text in this file to your team via Teams Chat\n",
    "# 3) Team Leader: please delegate someone in the team to do the following, and send them the specific instructions via Teams chat:\n",
    "#               - Count the substitutions in the text (see instructions below)\n",
    "#               - Count the deletions in the text (see instructions below)\n",
    "#.              - Count the insertions in the text (see instructions below)\n",
    "#               - Count the total number of words in the transcript (no instructions- simply count how many words there are)\n",
    "# 4) Team Leader: Please calculate the Word Error Rate by running the code chunk below, using the information from your team in (3)\n",
    "\n",
    "# How to evaluate substitutions?\n",
    "# 1) Play the segment (https://www.youtube.com/watch?v=HFHFL6-vs8s&t=100s) with the specified start and end times whilst reading the transcription\n",
    "# 2) Count how many times a word on the transcript has to be replaced by the correct word\n",
    "\n",
    "# How to evaluate deletions?\n",
    "# 1) Play the segment (https://www.youtube.com/watch?v=HFHFL6-vs8s&t=100s) with the specified start and end times whilst reading the transcription\n",
    "# 2) Count how many times a word has to be deleted from the transcript (i.e. the speakers did not use that word)\n",
    "\n",
    "# How to evaluate insertions?\n",
    "# 1) Play the segment (https://www.youtube.com/watch?v=HFHFL6-vs8s&t=100s) with the specified start and end times whilst reading the transcription\n",
    "# 2) Count how many times a word has to be inserted into the transcript (i.e. the trasncript failed to pick up word completely)\n",
    "\n",
    "\n"
   ]
  },
  {
   "cell_type": "code",
   "execution_count": 7,
   "id": "2fcf437a",
   "metadata": {},
   "outputs": [
    {
     "data": {
      "text/plain": [
       "1.0"
      ]
     },
     "execution_count": 7,
     "metadata": {},
     "output_type": "execute_result"
    }
   ],
   "source": [
    "# EDIT: Please insert the number of substitutions (S), number of deletions (D), number of insertions (I) and total number of words (N)\n",
    "\n",
    "\n",
    "S = \n",
    "\n",
    "D = \n",
    "\n",
    "I = \n",
    "\n",
    "N = \n",
    "\n"
   ]
  },
  {
   "cell_type": "code",
   "execution_count": null,
   "id": "807f8fa4",
   "metadata": {},
   "outputs": [],
   "source": [
    "# Please run this code chunk to get the word error rate\n",
    "\n",
    "WER = (S + D + I)/N\n",
    "\n",
    "WER"
   ]
  }
 ],
 "metadata": {
  "kernelspec": {
   "display_name": "Python 3",
   "language": "python",
   "name": "python3"
  },
  "language_info": {
   "codemirror_mode": {
    "name": "ipython",
    "version": 3
   },
   "file_extension": ".py",
   "mimetype": "text/x-python",
   "name": "python",
   "nbconvert_exporter": "python",
   "pygments_lexer": "ipython3",
   "version": "3.6.9"
  }
 },
 "nbformat": 4,
 "nbformat_minor": 5
}
