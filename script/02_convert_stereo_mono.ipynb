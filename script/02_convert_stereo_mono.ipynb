{
 "cells": [
  {
   "cell_type": "code",
   "execution_count": 1,
   "id": "b6be070c",
   "metadata": {},
   "outputs": [],
   "source": [
    "from os import path\n",
    "import wave\n",
    "from pydub import AudioSegment"
   ]
  },
  {
   "cell_type": "code",
   "execution_count": 2,
   "id": "4ea6dbcb",
   "metadata": {},
   "outputs": [],
   "source": [
    "# start time in seconds\n",
    "startTime = 60.0\n",
    "# end time in seconds\n",
    "endTime = 120.0"
   ]
  },
  {
   "cell_type": "code",
   "execution_count": 3,
   "id": "c872588a",
   "metadata": {},
   "outputs": [
    {
     "data": {
      "text/plain": [
       "<_io.BufferedRandom name='/home/ubuntu/transcription_test/input/pregnant_germany_segment.wav'>"
      ]
     },
     "execution_count": 3,
     "metadata": {},
     "output_type": "execute_result"
    }
   ],
   "source": [
    "# create audiosegment                                                            \n",
    "audio = AudioSegment.from_wav('/home/ubuntu/transcription_test/input/pregnant_germany.wav')\n",
    "audio = audio.set_channels(1)\n",
    "audio = audio.set_frame_rate(16000)\n",
    "cut = audio[startTime * 1000:endTime * 1000]\n",
    "cut.export('/home/ubuntu/transcription_test/input/pregnant_germany_segment.wav', format=\"wav\")"
   ]
  }
 ],
 "metadata": {
  "kernelspec": {
   "display_name": "Python 3",
   "language": "python",
   "name": "python3"
  },
  "language_info": {
   "codemirror_mode": {
    "name": "ipython",
    "version": 3
   },
   "file_extension": ".py",
   "mimetype": "text/x-python",
   "name": "python",
   "nbconvert_exporter": "python",
   "pygments_lexer": "ipython3",
   "version": "3.6.9"
  }
 },
 "nbformat": 4,
 "nbformat_minor": 5
}
