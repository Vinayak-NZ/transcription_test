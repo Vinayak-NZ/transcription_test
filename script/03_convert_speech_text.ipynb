{
 "cells": [
  {
   "cell_type": "code",
   "execution_count": 1,
   "id": "29b1a55c",
   "metadata": {},
   "outputs": [
    {
     "data": {
      "text/plain": [
       "'\\nthis script reads a mono wav file (inFileName) and writes out a json file (outfileResults) with the speech to text conversion results.  It then writes out another json file (outfileText) that only has the \"text\" values.\\n'"
      ]
     },
     "execution_count": 1,
     "metadata": {},
     "output_type": "execute_result"
    }
   ],
   "source": [
    "from vosk import Model, KaldiRecognizer\n",
    "import wave\n",
    "import json\n",
    "\n",
    "'''\n",
    "this script reads a mono wav file (inFileName) and writes out a json file (outfileResults) with the speech to text conversion results.  It then writes out another json file (outfileText) that only has the \"text\" values.\n",
    "'''"
   ]
  },
  {
   "cell_type": "code",
   "execution_count": 2,
   "id": "beae7959",
   "metadata": {},
   "outputs": [],
   "source": [
    "inFileName = '/home/ubuntu/transcription_test/input/pregnant_germany_segment.wav'\n",
    "outfileResults = '/home/ubuntu/transcription_test/output/M1S3-Results.json'\n",
    "outfileText = '/home/ubuntu/transcription_test/output/M1S3-Text.json'\n",
    "\n",
    "wf = wave.open(inFileName, \"rb\")"
   ]
  },
  {
   "cell_type": "code",
   "execution_count": 3,
   "id": "7d11f9aa",
   "metadata": {},
   "outputs": [],
   "source": [
    "# initialize a str to hold results\n",
    "results = \"\"\n",
    "textResults = []\n",
    "\n",
    "# build the model and recognizer objects.\n",
    "model = Model(r\"/home/ubuntu/transcription_test/model/vosk-model-small-en-us-0.15\")\n",
    "recognizer = KaldiRecognizer(model, wf.getframerate())\n",
    "recognizer.SetWords(True)\n",
    "\n",
    "while True:\n",
    "    data = wf.readframes(4000)\n",
    "    if len(data) == 0:\n",
    "        break\n",
    "    if recognizer.AcceptWaveform(data):\n",
    "        recognizerResult = recognizer.Result()\n",
    "        results = results + recognizerResult\n",
    "        # convert the recognizerResult string into a dictionary  \n",
    "        resultDict = json.loads(recognizerResult)\n",
    "        # save the 'text' value from the dictionary into a list\n",
    "        textResults.append(resultDict.get(\"text\", \"\"))\n",
    "\n",
    "##    else:\n",
    "##        print(recognizer.PartialResult())"
   ]
  },
  {
   "cell_type": "code",
   "execution_count": 4,
   "id": "d4796fa6",
   "metadata": {},
   "outputs": [],
   "source": [
    "# process \"final\" result\n",
    "results = results + recognizer.FinalResult()\n",
    "resultDict = json.loads(recognizer.FinalResult())\n",
    "textResults.append(resultDict.get(\"text\", \"\"))\n",
    "\n",
    "# write results to a file\n",
    "with open(outfileResults, 'w') as output:\n",
    "    print(results, file=output)\n",
    "\n",
    "# write text portion of results to a file\n",
    "with open(outfileText, 'w') as output:\n",
    "    print(json.dumps(textResults, indent=4), file=output)"
   ]
  }
 ],
 "metadata": {
  "kernelspec": {
   "display_name": "Python 3",
   "language": "python",
   "name": "python3"
  },
  "language_info": {
   "codemirror_mode": {
    "name": "ipython",
    "version": 3
   },
   "file_extension": ".py",
   "mimetype": "text/x-python",
   "name": "python",
   "nbconvert_exporter": "python",
   "pygments_lexer": "ipython3",
   "version": "3.6.9"
  }
 },
 "nbformat": 4,
 "nbformat_minor": 5
}
