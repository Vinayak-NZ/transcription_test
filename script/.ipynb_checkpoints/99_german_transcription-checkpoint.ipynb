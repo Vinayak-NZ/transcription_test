{
 "cells": [
  {
   "cell_type": "code",
   "execution_count": 1,
   "id": "d2344cae",
   "metadata": {},
   "outputs": [],
   "source": [
    "import subprocess\n",
    "from os import path\n",
    "import wave\n",
    "from pydub import AudioSegment\n",
    "from vosk import Model, KaldiRecognizer\n",
    "import json"
   ]
  },
  {
   "cell_type": "code",
   "execution_count": 2,
   "id": "dd89d111",
   "metadata": {},
   "outputs": [],
   "source": [
    "command = \"ffmpeg -i /home/ubuntu/transcription_test/raw/dm_german_pregnant.mp4 -ab 160k -ac 2 -ar 44100 -vn /home/ubuntu/transcription_test/input/pregnant_deutsch.wav\""
   ]
  },
  {
   "cell_type": "code",
   "execution_count": 3,
   "id": "38833b8b",
   "metadata": {},
   "outputs": [
    {
     "data": {
      "text/plain": [
       "0"
      ]
     },
     "execution_count": 3,
     "metadata": {},
     "output_type": "execute_result"
    }
   ],
   "source": [
    "subprocess.call(command, shell=True)"
   ]
  },
  {
   "cell_type": "code",
   "execution_count": 4,
   "id": "2691a28c",
   "metadata": {},
   "outputs": [],
   "source": [
    "# start time in seconds\n",
    "startTime = 60.0\n",
    "# end time in seconds\n",
    "endTime = 120.0"
   ]
  },
  {
   "cell_type": "code",
   "execution_count": 5,
   "id": "877e99a9",
   "metadata": {},
   "outputs": [
    {
     "data": {
      "text/plain": [
       "<_io.BufferedRandom name='/home/ubuntu/transcription_test/input/pregnant_deutsch_segment.wav'>"
      ]
     },
     "execution_count": 5,
     "metadata": {},
     "output_type": "execute_result"
    }
   ],
   "source": [
    "# create audiosegment                                                            \n",
    "audio = AudioSegment.from_wav('/home/ubuntu/transcription_test/input/pregnant_deutsch.wav')\n",
    "audio = audio.set_channels(1)\n",
    "audio = audio.set_frame_rate(16000)\n",
    "cut = audio[startTime * 1000:endTime * 1000]\n",
    "cut.export('/home/ubuntu/transcription_test/input/pregnant_deutsch_segment.wav', format=\"wav\")"
   ]
  },
  {
   "cell_type": "code",
   "execution_count": 6,
   "id": "398a6d66",
   "metadata": {},
   "outputs": [],
   "source": [
    "inFileName = '/home/ubuntu/transcription_test/input/pregnant_deutsch_segment.wav'\n",
    "outfileResults = '/home/ubuntu/transcription_test/output/M1S3-Results_deutsch.json'\n",
    "outfileText = '/home/ubuntu/transcription_test/output/M1S3-Text_deutsch.json'\n",
    "\n",
    "wf = wave.open(inFileName, \"rb\")"
   ]
  },
  {
   "cell_type": "code",
   "execution_count": 9,
   "id": "c751ad78",
   "metadata": {},
   "outputs": [],
   "source": [
    "# initialize a str to hold results\n",
    "results = \"\"\n",
    "textResults = []\n",
    "\n",
    "# build the model and recognizer objects.\n",
    "model = Model(r\"/home/ubuntu/transcription_test/model/vosk-model-small-de-0.15\")\n",
    "recognizer = KaldiRecognizer(model, wf.getframerate())\n",
    "recognizer.SetWords(True)\n",
    "\n",
    "while True:\n",
    "    data = wf.readframes(4000)\n",
    "    if len(data) == 0:\n",
    "        break\n",
    "    if recognizer.AcceptWaveform(data):\n",
    "        recognizerResult = recognizer.Result()\n",
    "        results = results + recognizerResult\n",
    "        # convert the recognizerResult string into a dictionary  \n",
    "        resultDict = json.loads(recognizerResult)\n",
    "        # save the 'text' value from the dictionary into a list\n",
    "        textResults.append(resultDict.get(\"text\", \"\"))"
   ]
  },
  {
   "cell_type": "code",
   "execution_count": null,
   "id": "f679689c",
   "metadata": {},
   "outputs": [],
   "source": [
    "# process \"final\" result\n",
    "results = results + recognizer.FinalResult()\n",
    "resultDict = json.loads(recognizer.FinalResult())\n",
    "textResults.append(resultDict.get(\"text\", \"\"))\n",
    "\n",
    "# write results to a file\n",
    "with open(outfileResults, 'w') as output:\n",
    "    print(results, file=output)\n",
    "\n",
    "# write text portion of results to a file\n",
    "with open(outfileText, 'w', encoding='utf-8') as output:\n",
    "    print(json.dumps(textResults, indent=4), file=output)"
   ]
  }
 ],
 "metadata": {
  "kernelspec": {
   "display_name": "Python 3",
   "language": "python",
   "name": "python3"
  },
  "language_info": {
   "codemirror_mode": {
    "name": "ipython",
    "version": 3
   },
   "file_extension": ".py",
   "mimetype": "text/x-python",
   "name": "python",
   "nbconvert_exporter": "python",
   "pygments_lexer": "ipython3",
   "version": "3.6.9"
  }
 },
 "nbformat": 4,
 "nbformat_minor": 5
}
