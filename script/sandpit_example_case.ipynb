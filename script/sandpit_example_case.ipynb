{
 "cells": [
  {
   "cell_type": "code",
   "execution_count": 51,
   "id": "850fc9c9",
   "metadata": {},
   "outputs": [],
   "source": [
    "import speech_recognition as sr"
   ]
  },
  {
   "cell_type": "code",
   "execution_count": 52,
   "id": "fc2a0c93",
   "metadata": {},
   "outputs": [
    {
     "data": {
      "text/plain": [
       "'3.8.1'"
      ]
     },
     "execution_count": 52,
     "metadata": {},
     "output_type": "execute_result"
    }
   ],
   "source": [
    "sr.__version__"
   ]
  },
  {
   "cell_type": "code",
   "execution_count": 53,
   "id": "0b973831",
   "metadata": {},
   "outputs": [],
   "source": [
    "r = sr.Recognizer()"
   ]
  },
  {
   "cell_type": "code",
   "execution_count": 54,
   "id": "2f95766f",
   "metadata": {},
   "outputs": [],
   "source": [
    "test = sr.AudioFile('data/test_audio_four_pp.wav')"
   ]
  },
  {
   "cell_type": "code",
   "execution_count": 55,
   "id": "ece97c30",
   "metadata": {},
   "outputs": [],
   "source": [
    "with test as source:\n",
    "    audio = r.record(source)"
   ]
  },
  {
   "cell_type": "code",
   "execution_count": 56,
   "id": "ea4816e4",
   "metadata": {},
   "outputs": [
    {
     "data": {
      "text/plain": [
       "speech_recognition.AudioData"
      ]
     },
     "execution_count": 56,
     "metadata": {},
     "output_type": "execute_result"
    }
   ],
   "source": [
    "type(audio)"
   ]
  },
  {
   "cell_type": "code",
   "execution_count": 57,
   "id": "7f258a23",
   "metadata": {},
   "outputs": [
    {
     "data": {
      "text/plain": [
       "\"figure 2 shows an example of processing of speech using him and your models yeah it's lovely when it's time for taking your mother really vehicle off the boys related to sell tickets to Troy control actually child health and beauty cases from within 4 for the first time in 10 years research and development programs use proprietary McIntosh traffic\""
      ]
     },
     "execution_count": 57,
     "metadata": {},
     "output_type": "execute_result"
    }
   ],
   "source": [
    "r.recognize_google(audio)"
   ]
  },
  {
   "cell_type": "code",
   "execution_count": 1,
   "id": "c1ad024b",
   "metadata": {},
   "outputs": [],
   "source": [
    "from vosk import Model, KaldiRecognizer, SetLogLevel\n",
    "import sys\n",
    "import os\n",
    "import wave"
   ]
  },
  {
   "cell_type": "code",
   "execution_count": 2,
   "id": "4e3f8bf9",
   "metadata": {},
   "outputs": [],
   "source": [
    "SetLogLevel(0)"
   ]
  },
  {
   "cell_type": "code",
   "execution_count": 3,
   "id": "28780238",
   "metadata": {},
   "outputs": [
    {
     "ename": "FileNotFoundError",
     "evalue": "[Errno 2] No such file or directory: 'input/pregnant_germany_segment.wav'",
     "output_type": "error",
     "traceback": [
      "\u001b[0;31m---------------------------------------------------------------------------\u001b[0m",
      "\u001b[0;31mFileNotFoundError\u001b[0m                         Traceback (most recent call last)",
      "\u001b[0;32m<ipython-input-3-7fccdfaa90bd>\u001b[0m in \u001b[0;36m<module>\u001b[0;34m\u001b[0m\n\u001b[0;32m----> 1\u001b[0;31m \u001b[0mwf\u001b[0m \u001b[0;34m=\u001b[0m \u001b[0mwave\u001b[0m\u001b[0;34m.\u001b[0m\u001b[0mopen\u001b[0m\u001b[0;34m(\u001b[0m\u001b[0;34m'input/pregnant_germany_segment.wav'\u001b[0m\u001b[0;34m,\u001b[0m \u001b[0;34m\"rb\"\u001b[0m\u001b[0;34m)\u001b[0m\u001b[0;34m\u001b[0m\u001b[0;34m\u001b[0m\u001b[0m\n\u001b[0m\u001b[1;32m      2\u001b[0m \u001b[0;32mif\u001b[0m \u001b[0mwf\u001b[0m\u001b[0;34m.\u001b[0m\u001b[0mgetnchannels\u001b[0m\u001b[0;34m(\u001b[0m\u001b[0;34m)\u001b[0m \u001b[0;34m!=\u001b[0m \u001b[0;36m1\u001b[0m \u001b[0;32mor\u001b[0m \u001b[0mwf\u001b[0m\u001b[0;34m.\u001b[0m\u001b[0mgetsampwidth\u001b[0m\u001b[0;34m(\u001b[0m\u001b[0;34m)\u001b[0m \u001b[0;34m!=\u001b[0m \u001b[0;36m2\u001b[0m \u001b[0;32mor\u001b[0m \u001b[0mwf\u001b[0m\u001b[0;34m.\u001b[0m\u001b[0mgetcomptype\u001b[0m\u001b[0;34m(\u001b[0m\u001b[0;34m)\u001b[0m \u001b[0;34m!=\u001b[0m \u001b[0;34m\"NONE\"\u001b[0m\u001b[0;34m:\u001b[0m\u001b[0;34m\u001b[0m\u001b[0;34m\u001b[0m\u001b[0m\n\u001b[1;32m      3\u001b[0m     \u001b[0mprint\u001b[0m \u001b[0;34m(\u001b[0m\u001b[0;34m\"Audio file must be WAV format mono PCM.\"\u001b[0m\u001b[0;34m)\u001b[0m\u001b[0;34m\u001b[0m\u001b[0;34m\u001b[0m\u001b[0m\n\u001b[1;32m      4\u001b[0m     \u001b[0mexit\u001b[0m \u001b[0;34m(\u001b[0m\u001b[0;36m1\u001b[0m\u001b[0;34m)\u001b[0m\u001b[0;34m\u001b[0m\u001b[0;34m\u001b[0m\u001b[0m\n",
      "\u001b[0;32m/usr/lib/python3.6/wave.py\u001b[0m in \u001b[0;36mopen\u001b[0;34m(f, mode)\u001b[0m\n\u001b[1;32m    497\u001b[0m             \u001b[0mmode\u001b[0m \u001b[0;34m=\u001b[0m \u001b[0;34m'rb'\u001b[0m\u001b[0;34m\u001b[0m\u001b[0;34m\u001b[0m\u001b[0m\n\u001b[1;32m    498\u001b[0m     \u001b[0;32mif\u001b[0m \u001b[0mmode\u001b[0m \u001b[0;32min\u001b[0m \u001b[0;34m(\u001b[0m\u001b[0;34m'r'\u001b[0m\u001b[0;34m,\u001b[0m \u001b[0;34m'rb'\u001b[0m\u001b[0;34m)\u001b[0m\u001b[0;34m:\u001b[0m\u001b[0;34m\u001b[0m\u001b[0;34m\u001b[0m\u001b[0m\n\u001b[0;32m--> 499\u001b[0;31m         \u001b[0;32mreturn\u001b[0m \u001b[0mWave_read\u001b[0m\u001b[0;34m(\u001b[0m\u001b[0mf\u001b[0m\u001b[0;34m)\u001b[0m\u001b[0;34m\u001b[0m\u001b[0;34m\u001b[0m\u001b[0m\n\u001b[0m\u001b[1;32m    500\u001b[0m     \u001b[0;32melif\u001b[0m \u001b[0mmode\u001b[0m \u001b[0;32min\u001b[0m \u001b[0;34m(\u001b[0m\u001b[0;34m'w'\u001b[0m\u001b[0;34m,\u001b[0m \u001b[0;34m'wb'\u001b[0m\u001b[0;34m)\u001b[0m\u001b[0;34m:\u001b[0m\u001b[0;34m\u001b[0m\u001b[0;34m\u001b[0m\u001b[0m\n\u001b[1;32m    501\u001b[0m         \u001b[0;32mreturn\u001b[0m \u001b[0mWave_write\u001b[0m\u001b[0;34m(\u001b[0m\u001b[0mf\u001b[0m\u001b[0;34m)\u001b[0m\u001b[0;34m\u001b[0m\u001b[0;34m\u001b[0m\u001b[0m\n",
      "\u001b[0;32m/usr/lib/python3.6/wave.py\u001b[0m in \u001b[0;36m__init__\u001b[0;34m(self, f)\u001b[0m\n\u001b[1;32m    157\u001b[0m         \u001b[0mself\u001b[0m\u001b[0;34m.\u001b[0m\u001b[0m_i_opened_the_file\u001b[0m \u001b[0;34m=\u001b[0m \u001b[0;32mNone\u001b[0m\u001b[0;34m\u001b[0m\u001b[0;34m\u001b[0m\u001b[0m\n\u001b[1;32m    158\u001b[0m         \u001b[0;32mif\u001b[0m \u001b[0misinstance\u001b[0m\u001b[0;34m(\u001b[0m\u001b[0mf\u001b[0m\u001b[0;34m,\u001b[0m \u001b[0mstr\u001b[0m\u001b[0;34m)\u001b[0m\u001b[0;34m:\u001b[0m\u001b[0;34m\u001b[0m\u001b[0;34m\u001b[0m\u001b[0m\n\u001b[0;32m--> 159\u001b[0;31m             \u001b[0mf\u001b[0m \u001b[0;34m=\u001b[0m \u001b[0mbuiltins\u001b[0m\u001b[0;34m.\u001b[0m\u001b[0mopen\u001b[0m\u001b[0;34m(\u001b[0m\u001b[0mf\u001b[0m\u001b[0;34m,\u001b[0m \u001b[0;34m'rb'\u001b[0m\u001b[0;34m)\u001b[0m\u001b[0;34m\u001b[0m\u001b[0;34m\u001b[0m\u001b[0m\n\u001b[0m\u001b[1;32m    160\u001b[0m             \u001b[0mself\u001b[0m\u001b[0;34m.\u001b[0m\u001b[0m_i_opened_the_file\u001b[0m \u001b[0;34m=\u001b[0m \u001b[0mf\u001b[0m\u001b[0;34m\u001b[0m\u001b[0;34m\u001b[0m\u001b[0m\n\u001b[1;32m    161\u001b[0m         \u001b[0;31m# else, assume it is an open file object already\u001b[0m\u001b[0;34m\u001b[0m\u001b[0;34m\u001b[0m\u001b[0;34m\u001b[0m\u001b[0m\n",
      "\u001b[0;31mFileNotFoundError\u001b[0m: [Errno 2] No such file or directory: 'input/pregnant_germany_segment.wav'"
     ]
    }
   ],
   "source": [
    "wf = wave.open('input/pregnant_germany_segment.wav', \"rb\")\n",
    "if wf.getnchannels() != 1 or wf.getsampwidth() != 2 or wf.getcomptype() != \"NONE\":\n",
    "    print (\"Audio file must be WAV format mono PCM.\")\n",
    "    exit (1)"
   ]
  },
  {
   "cell_type": "code",
   "execution_count": 11,
   "id": "cd7b03b2",
   "metadata": {},
   "outputs": [],
   "source": [
    "model = Model(r\"/home/ubuntu/transcription_test/model/vosk-model-small-de-0.15\")"
   ]
  },
  {
   "cell_type": "code",
   "execution_count": 12,
   "id": "7acfa8a6",
   "metadata": {},
   "outputs": [],
   "source": [
    "rec = KaldiRecognizer(model, 16000)\n",
    "rec.SetWords(True)\n",
    "rec.SetPartialWords(True)"
   ]
  },
  {
   "cell_type": "code",
   "execution_count": 13,
   "id": "d355183c",
   "metadata": {},
   "outputs": [
    {
     "name": "stdout",
     "output_type": "stream",
     "text": [
      "{\n",
      "  \"partial\" : \"\"\n",
      "}\n",
      "{\n",
      "  \"partial\" : \"\"\n",
      "}\n",
      "{\n",
      "  \"partial\" : \"i believe you're just talking\",\n",
      "  \"partial_result\" : [{\n",
      "      \"conf\" : 1.000000,\n",
      "      \"end\" : 0.300000,\n",
      "      \"start\" : 0.120000,\n",
      "      \"word\" : \"i\"\n",
      "    }, {\n",
      "      \"conf\" : 1.000000,\n",
      "      \"end\" : 0.660000,\n",
      "      \"start\" : 0.300000,\n",
      "      \"word\" : \"believe\"\n",
      "    }, {\n",
      "      \"conf\" : 0.841031,\n",
      "      \"end\" : 0.930000,\n",
      "      \"start\" : 0.660000,\n",
      "      \"word\" : \"you're\"\n",
      "    }, {\n",
      "      \"conf\" : 1.000000,\n",
      "      \"end\" : 1.140000,\n",
      "      \"start\" : 0.930000,\n",
      "      \"word\" : \"just\"\n",
      "    }, {\n",
      "      \"conf\" : 1.000000,\n",
      "      \"end\" : 1.590000,\n",
      "      \"start\" : 1.170000,\n",
      "      \"word\" : \"talking\"\n",
      "    }]\n",
      "}\n"
     ]
    }
   ],
   "source": [
    "while True:\n",
    "    data = wf.readframes(16000)\n",
    "    if len(data) == 0:\n",
    "        break\n",
    "    if rec.AcceptWaveform(data):\n",
    "        print(rec.Result())\n",
    "    else:\n",
    "        print(rec.PartialResult())"
   ]
  },
  {
   "cell_type": "code",
   "execution_count": 14,
   "id": "6596e63d",
   "metadata": {},
   "outputs": [
    {
     "name": "stdout",
     "output_type": "stream",
     "text": [
      "{\n",
      "  \"result\" : [{\n",
      "      \"conf\" : 1.000000,\n",
      "      \"end\" : 0.300000,\n",
      "      \"start\" : 0.120000,\n",
      "      \"word\" : \"i\"\n",
      "    }, {\n",
      "      \"conf\" : 1.000000,\n",
      "      \"end\" : 0.660000,\n",
      "      \"start\" : 0.300000,\n",
      "      \"word\" : \"believe\"\n",
      "    }, {\n",
      "      \"conf\" : 0.787108,\n",
      "      \"end\" : 0.930000,\n",
      "      \"start\" : 0.660000,\n",
      "      \"word\" : \"you're\"\n",
      "    }, {\n",
      "      \"conf\" : 1.000000,\n",
      "      \"end\" : 1.140000,\n",
      "      \"start\" : 0.930000,\n",
      "      \"word\" : \"just\"\n",
      "    }, {\n",
      "      \"conf\" : 1.000000,\n",
      "      \"end\" : 1.590000,\n",
      "      \"start\" : 1.170000,\n",
      "      \"word\" : \"talking\"\n",
      "    }, {\n",
      "      \"conf\" : 1.000000,\n",
      "      \"end\" : 2.520000,\n",
      "      \"start\" : 1.590000,\n",
      "      \"word\" : \"nonsense\"\n",
      "    }],\n",
      "  \"text\" : \"i believe you're just talking nonsense\"\n",
      "}\n"
     ]
    }
   ],
   "source": [
    "print(rec.FinalResult())"
   ]
  },
  {
   "cell_type": "code",
   "execution_count": 30,
   "id": "a085c1c5",
   "metadata": {},
   "outputs": [],
   "source": [
    "from os import path\n",
    "from pydub import AudioSegment"
   ]
  },
  {
   "cell_type": "code",
   "execution_count": 31,
   "id": "71378c05",
   "metadata": {},
   "outputs": [
    {
     "name": "stdout",
     "output_type": "stream",
     "text": [
      "frames read: 1013 length: 2026\n",
      "not a whole number of frames\n"
     ]
    }
   ],
   "source": [
    "import wave\n",
    "import audioop\n",
    "\n",
    "inFileName = 'data/harvard_sentence_one.wav'\n",
    "outFileName = 'data/harvard_sentence_output.wav'\n",
    "\n",
    "# read input file and write mono output file\n",
    "try:\n",
    "    # open the input and output files\n",
    "    inFile = wave.open(inFileName,'rb')\n",
    "    outFile = wave.open(outFileName,'wb')\n",
    "    # force mono\n",
    "    outFile.setnchannels(1)\n",
    "    # set output file like the input file\n",
    "    outFile.setsampwidth(inFile.getsampwidth())\n",
    "    outFile.setframerate(inFile.getframerate())\n",
    "    # read\n",
    "    soundBytes = inFile.readframes(inFile.getnframes())\n",
    "    print(\"frames read: {} length: {}\".format(inFile.getnframes(),len(soundBytes)))\n",
    "    # convert to mono and write file\n",
    "    monoSoundBytes = audioop.tomono(soundBytes, inFile.getsampwidth(), 1, 1)\n",
    "    outFile.writeframes(monoSoundBytes)\n",
    "    \n",
    "except Exception as e:\n",
    "    print(e)\n",
    "    \n",
    "finally:\n",
    "    inFile.close()\n",
    "    outFile.close()"
   ]
  },
  {
   "cell_type": "code",
   "execution_count": 9,
   "id": "837ae6aa",
   "metadata": {},
   "outputs": [],
   "source": [
    "from vosk import Model, KaldiRecognizer\n",
    "import sys\n",
    "import json\n",
    "import os"
   ]
  },
  {
   "cell_type": "code",
   "execution_count": 10,
   "id": "b9af2a41",
   "metadata": {},
   "outputs": [
    {
     "data": {
      "text/plain": [
       "b'RIFF\\x8eT\\t\\x00WAVEfmt \\x10\\x00\\x00\\x00\\x01\\x00\\x01\\x00@\\x1f\\x00\\x00\\x80>\\x00\\x00\\x02\\x00\\x10\\x00datajT\\t\\x00'"
      ]
     },
     "execution_count": 10,
     "metadata": {},
     "output_type": "execute_result"
    }
   ],
   "source": [
    "model = Model(lang=\"en-us\")\n",
    "\n",
    "# Large vocabulary free form recognition\n",
    "rec = KaldiRecognizer(model, 16000)\n",
    "\n",
    "# You can also specify the possible word list\n",
    "#rec = KaldiRecognizer(model, 16000, \"zero oh one two three four five six seven eight nine\")\n",
    "\n",
    "wf = open('data/harvard_sentence_one_pp.wav', \"rb\")\n",
    "wf.read(44) # skip header"
   ]
  },
  {
   "cell_type": "code",
   "execution_count": 11,
   "id": "bd58e004",
   "metadata": {},
   "outputs": [
    {
     "name": "stdout",
     "output_type": "stream",
     "text": [
      "that's different than returner the new struck down and your rough marines reference that kind of a store at certain amount of an attractive lamp\n",
      "gotham keeping it from a girl that restores hairpins he you the iconography it's much different direct have an affair with al half the party with the can get interesting\n",
      "there's around and thirty in it\n",
      "\n"
     ]
    }
   ],
   "source": [
    "while True:\n",
    "    data = wf.read(16000)\n",
    "    if len(data) == 0:\n",
    "        break\n",
    "    if rec.AcceptWaveform(data):\n",
    "        res = json.loads(rec.Result())\n",
    "        print (res['text'])\n",
    "\n",
    "res = json.loads(rec.FinalResult())\n",
    "print (res['text'])"
   ]
  },
  {
   "cell_type": "code",
   "execution_count": 43,
   "id": "8cf07a0e",
   "metadata": {},
   "outputs": [
    {
     "data": {
      "text/plain": [
       "<_io.BufferedRandom name='data/test_audio_four_pp.wav'>"
      ]
     },
     "execution_count": 43,
     "metadata": {},
     "output_type": "execute_result"
    }
   ],
   "source": [
    "from pydub import AudioSegment\n",
    "sound = AudioSegment.from_wav(\"data/test_audio_four.wav\")\n",
    "sound = sound.set_channels(1)\n",
    "sound.export(\"data/test_audio_four_pp.wav\", format=\"wav\")"
   ]
  },
  {
   "cell_type": "code",
   "execution_count": 9,
   "id": "e9dbdce9",
   "metadata": {},
   "outputs": [],
   "source": [
    "from vosk import Model, KaldiRecognizer, SpkModel\n",
    "import sys\n",
    "import wave\n",
    "import json\n",
    "import os\n",
    "import numpy as np"
   ]
  },
  {
   "cell_type": "code",
   "execution_count": 10,
   "id": "dd2748e6",
   "metadata": {},
   "outputs": [],
   "source": [
    "spk_model_path = \"/home/ubuntu/transcription_test/model/vosk-model-spk-0.4\"\n",
    "\n",
    "if not os.path.exists(spk_model_path):\n",
    "    print (\"Please download the speaker model from https://alphacephei.com/vosk/models and unpack as {} in the current folder.\".format(spk_model_path))\n",
    "    exit (1)\n",
    "\n",
    "wf = wave.open(\"/home/ubuntu/transcription_test/input/pregnant_deutsch_segment.wav\", \"rb\")\n",
    "if wf.getnchannels() != 1 or wf.getsampwidth() != 2 or wf.getcomptype() != \"NONE\":\n",
    "    print (\"Audio file must be WAV format mono PCM.\")\n",
    "    exit (1)"
   ]
  },
  {
   "cell_type": "code",
   "execution_count": 11,
   "id": "464a8596",
   "metadata": {},
   "outputs": [],
   "source": [
    "# Large vocabulary free form recognition\n",
    "model = Model(r\"/home/ubuntu/transcription_test/model/vosk-model-small-en-us-0.15\")\n",
    "spk_model = SpkModel(spk_model_path)\n",
    "#rec = KaldiRecognizer(model, wf.getframerate(), spk_model)\n",
    "rec = KaldiRecognizer(model, wf.getframerate())\n",
    "rec.SetSpkModel(spk_model)"
   ]
  },
  {
   "cell_type": "code",
   "execution_count": 12,
   "id": "5874407c",
   "metadata": {},
   "outputs": [
    {
     "name": "stdout",
     "output_type": "stream",
     "text": [
      "Text: funny him at them calcium i'm\n",
      "X-vector: [0.518585, 0.064513, 0.232504, 0.107781, 1.260677, 2.955697, 0.04219, 0.136285, -0.782566, 1.68216, 0.341376, -1.432987, 0.117962, -0.847765, 0.030408, 2.267219, -0.4308, -0.168404, 0.027139, -1.349506, -1.197377, -0.16236, -1.309346, -1.848985, 0.759631, 0.09247, -0.689248, -1.578111, 1.591287, -2.148041, 0.207325, -1.445924, -0.117265, 1.103119, 1.748107, 0.450399, 0.201658, 1.244436, 1.208229, -1.502284, -2.113436, -0.872393, -1.233055, -0.570552, -0.282578, -0.746612, -1.791065, -1.331799, 0.950982, 0.169596, 0.146865, -0.84597, 1.098082, 0.234657, -0.829418, -0.815648, 0.11209, 0.195925, -0.259463, 0.184167, -0.247568, -0.56446, 0.461476, -0.431382, 0.12168, 0.454899, -0.334061, 0.667474, -0.109997, -0.961318, -1.917089, 0.075799, 0.938383, -1.289351, -0.282795, 1.512856, 0.218335, -0.858736, 0.681997, -0.58498, -1.392332, -0.86956, -0.643649, 1.188754, -0.730852, -1.409092, 0.676181, 0.412403, -0.085367, -1.323559, -0.752269, 0.693874, 0.253854, -1.75762, -0.12388, 0.502935, -2.779668, -1.030047, 0.409495, 0.717864, 0.157336, 0.312768, -0.67685, 1.101723, 0.382805, 0.579036, -0.871504, -0.839531, 0.003644, 0.145369, -0.444066, 0.565049, 0.552512, -0.135656, 1.835953, -0.961923, 1.319146, 0.506604, 1.295548, -2.037391, 0.381797, 0.65829, 0.439227, -0.946923, -0.319083, -1.189465, -1.208123, -0.16929]\n",
      "Speaker distance: 1.1518442488060179 based on 129 frames\n",
      "Text: that's not that's where does as baby stock you cannot come on good at santa become to catch your name it so and spin the image makes the women that i have assets thinking or damage productivity cares a little you got as and\n",
      "X-vector: [1.574657, 0.039708, 1.317222, 1.129905, 0.159861, 3.634167, -0.828236, -0.118007, 0.39197, 1.571456, 0.397125, -0.867339, -0.558591, -0.377759, 0.39956, 1.900777, -1.064252, -0.148002, -1.133059, -0.99383, -1.092248, 0.315875, -1.289314, -1.900375, 0.656708, -0.602367, -0.393635, -1.293015, 2.297574, -1.227671, -0.512784, -0.9556, -0.349421, 0.198084, 0.825851, 0.179349, 0.994804, 1.999398, 0.427139, -0.475486, -0.092803, 0.249857, -0.774558, 0.193608, 1.107331, 0.072328, -0.2133, -0.719976, 0.122897, 0.234935, 1.737986, 1.209872, -0.95444, -0.577734, -0.358878, -1.336718, 0.830456, -0.799352, -1.642188, 0.889608, -0.341765, -1.19274, 0.553505, 0.168863, -0.959498, 0.311168, -0.715986, 0.345925, -0.899803, -0.616738, 0.565696, -0.10881, 1.552153, -2.401638, -0.592626, 1.034494, 0.327991, -0.270754, 2.685859, -0.586884, -0.787583, 0.443155, -1.517887, 0.946986, 0.074447, -1.545636, 0.488783, 1.191014, -1.951119, -0.59434, 0.291336, 1.252714, -0.055789, -0.117378, -0.13553, 1.671711, -0.7781, -0.871569, 1.40999, 0.727413, -1.403474, -0.421257, 1.104756, -1.443483, -0.017957, -1.312741, 0.11237, 0.128265, 0.587055, 1.132561, 0.827976, 0.355595, -0.366774, -0.097735, 0.515243, -0.661384, 0.164341, 0.932298, 1.160636, -0.701317, 0.298164, -0.856499, -0.461105, 0.090722, 0.534459, 0.146342, -1.011216, -0.594782]\n",
      "Speaker distance: 1.0888021052302257 based on 939 frames\n",
      "Text: also they must consume in vocally on call and titan fight against my definitely is over see take and trident and weeklong funky him until it marked by for the other stacked for i'm in good cool cool isn't cool oculi on to martin about alvin for can or can cut off in i am and flash\n",
      "X-vector: [0.856613, -0.090863, 1.580606, 1.259825, 0.34125, 3.605633, 0.258997, -0.463975, 0.234231, 1.248763, 0.5388, -0.711745, -0.417971, -1.411539, 0.709326, 1.171822, -0.700812, 0.145491, 0.07071, -1.011029, -1.545942, -0.67122, -0.441278, -1.616116, 1.485211, -0.613979, -1.767858, -1.672797, 2.3841, -1.53012, -0.240028, -2.411751, -0.668694, -0.12023, 1.257466, 0.818496, 1.797323, 1.454443, 1.234799, -0.199264, -0.692011, 0.782449, -1.261617, 0.059124, 0.087188, -0.001852, -0.8735, -1.348738, 0.64968, -0.828173, -0.525751, -1.372394, -0.257134, -0.298027, -0.850005, -1.313469, 0.483312, -1.162734, -1.096312, 0.89786, -0.742639, -0.970538, 0.23321, -0.857626, -0.615227, -1.661858, -0.498733, 2.073704, 0.41416, 0.314505, 1.387061, -0.453054, 0.606721, -2.088469, 0.358318, -0.381017, -0.830756, -0.258987, -0.124501, -1.454579, 0.017582, -1.2437, -2.090524, 0.030754, -0.80165, -0.046435, -0.246567, -0.420562, 0.482735, -0.199579, 0.812349, 0.12066, 1.4832, 0.26342, -0.975174, 0.85495, -1.024513, -0.210516, 0.932594, 1.441279, -0.911493, -0.971123, 0.60249, -0.656646, -0.023462, 0.413295, -0.019818, 0.332699, 1.145433, 0.336483, -0.956869, -0.341504, 0.521672, -0.137215, 0.072644, -1.760201, -0.105184, 0.537082, 0.068759, -0.939757, -0.224559, 0.049167, -0.012628, 0.168173, 1.47282, 0.422274, -0.648372, -0.78717]\n",
      "Speaker distance: 0.9239412706164394 based on 1170 frames\n",
      "Text: come in on some eyes and\n",
      "X-vector: [0.243417, 0.520796, -0.777489, 0.784495, 0.602787, 1.829067, 0.835836, 1.178272, 0.382872, 1.435602, 0.307533, -0.57891, 0.668472, 0.206287, 0.03086, 1.632282, 0.131731, 0.920331, -1.47678, -0.391005, -1.163504, 0.599836, -1.262472, -1.415348, 1.868726, -1.421018, -0.832184, -0.473156, -0.678804, -1.787917, 0.343436, -0.197237, -0.149652, 0.221757, 0.755925, 0.098776, 0.440258, 0.233531, -0.074701, 0.38898, 0.569973, -0.021437, -1.521439, -0.192908, 0.84108, -0.967839, 1.339455, -1.065914, 0.62489, -1.266375, 0.583006, -0.136553, -0.638116, -0.814431, 0.667028, -2.272337, -0.948862, -0.609184, -0.977384, 0.312738, -1.273749, -1.825022, -2.414779, -0.102112, 0.272624, -1.081499, -0.700325, 2.939376, -0.012312, -1.654784, -0.313842, 0.223376, 1.665865, -1.145191, 0.170605, 2.143226, 1.80362, -2.296578, 0.712377, -1.737648, -0.879913, -0.865405, -0.73519, 0.479072, 0.370839, 1.190906, 0.031109, 0.488803, -0.50468, 1.091856, 0.189524, 0.401076, 0.669431, 0.480998, -0.735012, 0.573388, -0.312022, -0.832991, 0.778307, -0.230766, 0.624288, -0.88915, 0.834348, -1.038936, -1.231521, -0.754844, -0.475751, -0.811963, 0.097989, 0.855209, 0.267528, -0.092556, 0.520695, 0.693774, 0.043355, 0.84712, 0.638241, 2.253905, -0.322716, -0.252701, 0.212236, 0.020815, 0.541574, -0.59201, -0.51633, -2.768565, -0.152437, 0.61166]\n",
      "Speaker distance: 1.0259130736443376 based on 105 frames\n",
      "Text: kinda avenue taking isin for and for the blue to that's all gone on and off powder in that an need and flights and for alum for contradict her aunt who's and forced to go to eyes and leave out i'm\n",
      "X-vector: [0.898586, 0.009772, 0.634501, 2.327143, 0.379233, 2.800578, -0.628282, 0.053154, 0.201462, 1.295426, 0.504762, -0.263047, -0.436607, -0.499584, -0.135784, 2.333985, -2.326044, 0.48264, -0.888265, -1.765379, -1.316919, 1.219533, -1.384253, -0.737056, -0.043658, -1.219504, -0.795361, -1.150023, 1.783347, -2.361436, 0.808807, -0.896958, 0.253657, -0.048078, 1.319503, 0.603538, 1.485927, 1.433715, 1.20757, -1.588447, -0.175151, 0.200532, -0.452255, -0.076659, -0.364666, -0.078435, -0.292939, -0.65597, -0.700279, -0.491538, 0.189102, -0.04102, -0.92949, 0.25286, 0.049158, -0.822641, -0.117861, -0.276738, -1.317568, -0.099386, -1.227853, -1.813478, 0.176882, -0.34558, -1.090232, -0.822289, 0.726412, 0.36442, -0.223612, -0.844953, -0.227949, 0.53338, 0.51614, -1.14843, 0.496111, 1.143041, -0.16749, -0.457731, 1.428454, -0.463164, 0.223621, -0.572099, -2.543107, 0.313463, -1.204975, -1.382936, -2.423285, -0.087896, -0.939851, -0.476614, 0.550393, 0.439685, -0.902055, -0.104509, -1.188076, 0.487205, -1.442471, -0.772008, 0.811271, 1.136999, -0.748443, -0.598131, -0.418604, -0.662853, -0.554591, -0.133753, -1.735591, 0.487567, 0.570666, 1.212876, -0.371391, 0.509725, -0.106653, -1.004253, 1.430999, 1.068052, 0.1454, 1.078596, 0.746025, -0.973058, -0.117776, -0.049268, -1.37437, 0.175192, 0.264268, -0.772089, -2.162444, 0.098033]\n",
      "Speaker distance: 1.0351487340827674 based on 894 frames\n",
      "Text: based used in coming out soon met them and see how to live in smitten the paprika older versions after can i is not based on couple of going on and\n",
      "X-vector: [1.289013, -0.004777, 1.007956, 1.665171, -0.429377, 3.967532, 0.101716, -1.572491, 0.146881, 0.766528, -0.165076, -1.248889, 1.10896, -0.177607, 0.343244, 2.139811, -0.005434, 0.275642, -0.385627, -0.843246, -1.778123, 0.838498, -1.017872, -0.6611, 1.333039, -1.070021, -1.700253, -1.174537, 2.814966, -1.20916, 0.781273, -1.999694, 0.359045, -0.049054, 1.492876, 0.479546, 1.128027, 0.266791, 0.78488, -0.859278, -1.346004, 0.07599, -0.310282, -0.192569, -0.357813, -0.184514, -0.33913, -2.08608, 0.898677, 1.10802, 0.655785, 0.39118, -0.974543, -0.426091, 0.300073, 0.390753, 0.620737, -1.422367, -0.560335, 0.548871, -0.326203, -0.50286, -0.233537, 0.499685, 0.170896, -0.361351, 0.310031, 1.024615, -0.227754, -0.639074, -0.869752, 1.084466, -0.32903, -1.535702, -0.673593, 0.819409, 0.898395, -1.125117, -0.522085, -0.587779, -0.157482, -1.063802, -2.412061, 1.435132, 0.44895, -0.660066, -1.177608, -0.604559, -1.173997, 0.012613, 0.810426, 1.483905, -0.277433, -0.185505, -0.591384, 1.266866, -1.23464, -0.941477, 0.278399, 0.821911, -1.223475, -0.373852, 0.607151, -0.613929, 0.300693, 0.188959, -1.367055, 0.203265, 1.307923, -0.029769, 0.39015, 0.684365, -0.024916, -1.473534, 0.937013, -0.312174, -0.842264, 1.194415, 0.121577, -0.609552, -0.404122, -0.172219, 0.061961, 0.121294, 0.165243, -1.268412, -1.91318, 0.421865]\n",
      "Speaker distance: 1.0378944896010502 based on 738 frames\n",
      "Note that second distance is not very reliable because utterance is too short. Utterances longer than 4 seconds give better xvector\n",
      "Text: your\n"
     ]
    }
   ],
   "source": [
    "# We compare speakers with cosine distance. We can keep one or several fingerprints for the speaker in a database\n",
    "# to distingusih among users.\n",
    "spk_sig = [-1.110417,0.09703002,1.35658,0.7798632,-0.305457,-0.339204,0.6186931,-0.4521213,0.3982236,-0.004530723,0.7651616,0.6500852,-0.6664245,0.1361499,0.1358056,-0.2887807,-0.1280468,-0.8208137,-1.620276,-0.4628615,0.7870904,-0.105754,0.9739769,-0.3258137,-0.7322628,-0.6212429,-0.5531687,-0.7796484,0.7035915,1.056094,-0.4941756,-0.6521456,-0.2238328,-0.003737517,0.2165709,1.200186,-0.7737719,0.492015,1.16058,0.6135428,-0.7183084,0.3153541,0.3458071,-1.418189,-0.9624157,0.4168292,-1.627305,0.2742135,-0.6166027,0.1962581,-0.6406527,0.4372789,-0.4296024,0.4898657,-0.9531326,-0.2945702,0.7879696,-1.517101,-0.9344181,-0.5049928,-0.005040941,-0.4637912,0.8223695,-1.079849,0.8871287,-0.9732434,-0.5548235,1.879138,-1.452064,-0.1975368,1.55047,0.5941782,-0.52897,1.368219,0.6782904,1.202505,-0.9256122,-0.9718158,-0.9570228,-0.5563112,-1.19049,-1.167985,2.606804,-2.261825,0.01340385,0.2526799,-1.125458,-1.575991,-0.363153,0.3270262,1.485984,-1.769565,1.541829,0.7293826,0.1743717,-0.4759418,1.523451,-2.487134,-1.824067,-0.626367,0.7448186,-1.425648,0.3524166,-0.9903384,3.339342,0.4563958,-0.2876643,1.521635,0.9508078,-0.1398541,0.3867955,-0.7550205,0.6568405,0.09419366,-1.583935,1.306094,-0.3501927,0.1794427,-0.3768163,0.9683866,-0.2442541,-1.696921,-1.8056,-0.6803037,-1.842043,0.3069353,0.9070363,-0.486526]\n",
    "\n",
    "def cosine_dist(x, y):\n",
    "    nx = np.array(x)\n",
    "    ny = np.array(y)\n",
    "    return 1 - np.dot(nx, ny) / np.linalg.norm(nx) / np.linalg.norm(ny)\n",
    "\n",
    "while True:\n",
    "    data = wf.readframes(4000)\n",
    "    if len(data) == 0:\n",
    "        break\n",
    "    if rec.AcceptWaveform(data):\n",
    "        res = json.loads(rec.Result())\n",
    "        print (\"Text:\", res['text'])\n",
    "        if 'spk' in res:\n",
    "            print (\"X-vector:\", res['spk'])\n",
    "            print (\"Speaker distance:\", cosine_dist(spk_sig, res['spk']), \"based on\", res['spk_frames'], \"frames\")\n",
    "\n",
    "print (\"Note that second distance is not very reliable because utterance is too short. Utterances longer than 4 seconds give better xvector\")\n",
    "\n",
    "res = json.loads(rec.FinalResult())\n",
    "print (\"Text:\", res['text'])\n",
    "if 'spk' in res:\n",
    "   print (\"X-vector:\", res['spk'])\n",
    "   print (\"Speaker distance:\", cosine_dist(spk_sig, res['spk']), \"based on\", res['spk_frames'], \"frames\")\n",
    "    \n",
    "    "
   ]
  },
  {
   "cell_type": "code",
   "execution_count": 13,
   "id": "daac9d2a",
   "metadata": {},
   "outputs": [
    {
     "data": {
      "text/plain": [
       "{'text': 'your'}"
      ]
     },
     "execution_count": 13,
     "metadata": {},
     "output_type": "execute_result"
    }
   ],
   "source": [
    "res"
   ]
  }
 ],
 "metadata": {
  "kernelspec": {
   "display_name": "Python 3",
   "language": "python",
   "name": "python3"
  },
  "language_info": {
   "codemirror_mode": {
    "name": "ipython",
    "version": 3
   },
   "file_extension": ".py",
   "mimetype": "text/x-python",
   "name": "python",
   "nbconvert_exporter": "python",
   "pygments_lexer": "ipython3",
   "version": "3.6.9"
  }
 },
 "nbformat": 4,
 "nbformat_minor": 5
}
