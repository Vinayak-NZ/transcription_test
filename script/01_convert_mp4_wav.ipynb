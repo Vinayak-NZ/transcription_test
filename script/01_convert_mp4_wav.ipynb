{
 "cells": [
  {
   "cell_type": "code",
   "execution_count": 1,
   "id": "7361fbf0",
   "metadata": {},
   "outputs": [],
   "source": [
    "import subprocess"
   ]
  },
  {
   "cell_type": "code",
   "execution_count": 2,
   "id": "46463622",
   "metadata": {},
   "outputs": [],
   "source": [
    "command = \"ffmpeg -i /home/ubuntu/transcription_test/raw/pregnant_germany.mp4 -ab 160k -ac 2 -ar 44100 -vn /home/ubuntu/transcription_test/input/pregnant_germany.wav\""
   ]
  },
  {
   "cell_type": "code",
   "execution_count": 3,
   "id": "c3a5d97d",
   "metadata": {},
   "outputs": [
    {
     "data": {
      "text/plain": [
       "0"
      ]
     },
     "execution_count": 3,
     "metadata": {},
     "output_type": "execute_result"
    }
   ],
   "source": [
    "subprocess.call(command, shell=True)"
   ]
  }
 ],
 "metadata": {
  "kernelspec": {
   "display_name": "Python 3",
   "language": "python",
   "name": "python3"
  },
  "language_info": {
   "codemirror_mode": {
    "name": "ipython",
    "version": 3
   },
   "file_extension": ".py",
   "mimetype": "text/x-python",
   "name": "python",
   "nbconvert_exporter": "python",
   "pygments_lexer": "ipython3",
   "version": "3.6.9"
  }
 },
 "nbformat": 4,
 "nbformat_minor": 5
}
